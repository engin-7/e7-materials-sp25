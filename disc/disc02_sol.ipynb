{
 "cells": [
  {
   "cell_type": "markdown",
   "id": "f133acb3",
   "metadata": {
    "id": "f133acb3"
   },
   "source": [
    "# E7 Discussion 2: Coding Challenge"
   ]
  },
  {
   "cell_type": "markdown",
   "id": "95b59811",
   "metadata": {
    "id": "95b59811"
   },
   "source": [
    "You are allowed to exchange ideas and work together with your discussion partner. The problems are designed to be challenging so do not feel discouraged if they take some time! The solution will be posted next week."
   ]
  },
  {
   "cell_type": "markdown",
   "id": "a62f23c5",
   "metadata": {
    "id": "a62f23c5"
   },
   "source": [
    "## Question 1: Arithmetic Manipulation\n",
    "\n",
    "Write a program that takes a three-digit number as input and performs the following operations:\n",
    "\n",
    "1. Reverse the digits of the number (e.g., input 321 becomes 123).\n",
    "2. Calculate the difference between the original number and the reversed number.\n",
    "3. Display both the reversed number and the difference.\n",
    "\n",
    "**Example:** \\\n",
    "Enter a three-digit number: 321 \\\n",
    "Reversed number: 123 \\\n",
    "Difference: 321 - 123 = 198\n",
    "\n",
    "**Requirements**: You must reverse the digits of the number using only arithmetic operations. Do not change the data type, use loops, or apply any other techniques."
   ]
  },
  {
   "cell_type": "code",
   "execution_count": null,
   "id": "1557c965",
   "metadata": {},
   "outputs": [],
   "source": [
    "# Step 1: Get input from the user\n",
    "number = int(input(\"Enter a three-digit number: \"))"
   ]
  },
  {
   "cell_type": "code",
   "execution_count": null,
   "id": "029cfccb",
   "metadata": {},
   "outputs": [],
   "source": [
    "# Step 2: Reverse the number and print it\n",
    "# Extract the digits of the number\n",
    "hundreds = number // 100       # Get the hundreds digit\n",
    "tens = (number % 100) // 10    # Get the tens digit\n",
    "units = number % 10            # Get the units digit\n",
    "\n",
    "# Reverse the number\n",
    "reversed_number = units * 100 + tens * 10 + hundreds\n",
    "\n",
    "# Display the results\n",
    "print(\"Reversed number:\", reversed_number)"
   ]
  },
  {
   "cell_type": "code",
   "execution_count": null,
   "id": "b71eaf2d",
   "metadata": {},
   "outputs": [],
   "source": [
    "# Step 3: Calculate the difference and print it\n",
    "difference = reversed_number - number\n",
    "\n",
    "# Display the results\n",
    "print(\"Difference:\", difference)"
   ]
  }
 ],
 "metadata": {
  "colab": {
   "provenance": []
  },
  "kernelspec": {
   "display_name": "Python 3 (ipykernel)",
   "language": "python",
   "name": "python3"
  },
  "language_info": {
   "codemirror_mode": {
    "name": "ipython",
    "version": 3
   },
   "file_extension": ".py",
   "mimetype": "text/x-python",
   "name": "python",
   "nbconvert_exporter": "python",
   "pygments_lexer": "ipython3",
   "version": "3.9.13"
  }
 },
 "nbformat": 4,
 "nbformat_minor": 5
}
