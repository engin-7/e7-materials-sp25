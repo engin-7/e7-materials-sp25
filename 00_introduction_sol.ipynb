{
 "cells": [
  {
   "cell_type": "markdown",
   "id": "26914496-e339-417f-9e05-58be1e37514e",
   "metadata": {},
   "source": [
    "# Introduction to Computer Programming and Numerical Methods\n",
    "\n",
    "> **Edited by S. Makiharju** Associate Professor, UC Berkeley <br>\n",
    "> **Based on original example by Mohamad M. Hallal, PhD** Teaching Professor, UC Berkeley\n",
    "\n",
    "[![License](https://img.shields.io/badge/license-CC%20BY--NC--ND%204.0-blue)](https://creativecommons.org/licenses/by-nc-nd/4.0/)\n",
    "***"
   ]
  },
  {
   "cell_type": "markdown",
   "id": "1c3871d2-7ddb-4879-af36-3a7edaa073bf",
   "metadata": {},
   "source": [
    "# Introduction \n",
    "\n",
    "1. [**Computer Programming**](#s1)\n",
    "\n",
    "***"
   ]
  },
  {
   "cell_type": "markdown",
   "id": "7f1a14be-3be6-4572-a65d-03bf9c7c7313",
   "metadata": {},
   "source": [
    "# 0. Motivation\n",
    "\n",
    "An *algorithm* is a sequence of well-defined, computer-implementable instructions, typically to solve a problem or to perform a computation.\n",
    "\n",
    "**Learning objectives:**\n",
    "\n",
    "* Explain what an algorithm is\n",
    "* Give examples of algorithms\n",
    "* Appreciate the value of algorithms and computer programming"
   ]
  },
  {
   "cell_type": "markdown",
   "id": "9f3f1f48-4613-44b4-8835-10fee0d7a63e",
   "metadata": {},
   "source": [
    "# 1. Computer Programming <a id=\"s1\"></a>\n",
    "\n",
    "Computer programming is the process of writing code (aka, coding) to instruct a computer to accomplish a specific task. These tasks can be as simple as performing a mathematical calculation. They can also be as complex as reading data from a file to perform data analysis, simulating an automotive design, simulating the structural response of a bridge to an earthquake, among others."
   ]
  },
  {
   "cell_type": "markdown",
   "id": "5ceeecc5-72a1-4833-aabe-559dcd0073d4",
   "metadata": {},
   "source": [
    "## 1.1. Simple Algorithm\n",
    "\n",
    "We can use computer programming to perform simple calculations.\n",
    "\n",
    "<div class=\"alert alert-block alert-info\"> <b>TRY IT!</b> Compute $1 + 2$ in the cell below.</div>"
   ]
  },
  {
   "cell_type": "code",
   "execution_count": 10,
   "id": "c0cfef84-3bdc-4e7f-9420-02bfda9e08ec",
   "metadata": {},
   "outputs": [
    {
     "data": {
      "text/plain": [
       "3"
      ]
     },
     "execution_count": 10,
     "metadata": {},
     "output_type": "execute_result"
    }
   ],
   "source": [
    "1+2"
   ]
  },
  {
   "cell_type": "markdown",
   "id": "076a64f8-f0ba-457e-91ad-1a01514e3fd4",
   "metadata": {},
   "source": [
    "## 1.2. More Complex Algorithm\n",
    "\n",
    "Computer programming can dramatically elevate the quality and efficiency of your work by performing more complex tasks.\n",
    "\n",
    "<div class=\"alert alert-block alert-info\"> <b>TRY IT!</b> Read the file <code>'engin7_sp25_roster.csv'</code>.</div>"
   ]
  },
  {
   "cell_type": "code",
   "execution_count": 11,
   "id": "fe02cf77-7cde-4c21-b83e-35a83b66847a",
   "metadata": {},
   "outputs": [
    {
     "data": {
      "text/html": [
       "<div>\n",
       "<style scoped>\n",
       "    .dataframe tbody tr th:only-of-type {\n",
       "        vertical-align: middle;\n",
       "    }\n",
       "\n",
       "    .dataframe tbody tr th {\n",
       "        vertical-align: top;\n",
       "    }\n",
       "\n",
       "    .dataframe thead th {\n",
       "        text-align: right;\n",
       "    }\n",
       "</style>\n",
       "<table border=\"1\" class=\"dataframe\">\n",
       "  <thead>\n",
       "    <tr style=\"text-align: right;\">\n",
       "      <th></th>\n",
       "      <th>Initials</th>\n",
       "      <th>Role</th>\n",
       "      <th>Pronouns</th>\n",
       "      <th>LEC</th>\n",
       "      <th>DIS</th>\n",
       "      <th>LAB</th>\n",
       "      <th>Majors</th>\n",
       "      <th>Terms in Attendance</th>\n",
       "      <th>Units</th>\n",
       "      <th>Grading Basis</th>\n",
       "      <th>Waitlist Position</th>\n",
       "    </tr>\n",
       "  </thead>\n",
       "  <tbody>\n",
       "    <tr>\n",
       "      <th>0</th>\n",
       "      <td>CC</td>\n",
       "      <td>Student</td>\n",
       "      <td>NaN</td>\n",
       "      <td>1</td>\n",
       "      <td>101</td>\n",
       "      <td>12</td>\n",
       "      <td>Business Administration BS, Industrial Eng &amp; O...</td>\n",
       "      <td>8</td>\n",
       "      <td>4</td>\n",
       "      <td>Letter</td>\n",
       "      <td>NaN</td>\n",
       "    </tr>\n",
       "    <tr>\n",
       "      <th>1</th>\n",
       "      <td>HM</td>\n",
       "      <td>Student</td>\n",
       "      <td>NaN</td>\n",
       "      <td>1</td>\n",
       "      <td>101</td>\n",
       "      <td>15</td>\n",
       "      <td>Electrical Eng &amp; Comp Sci BS</td>\n",
       "      <td>8</td>\n",
       "      <td>4</td>\n",
       "      <td>Letter</td>\n",
       "      <td>NaN</td>\n",
       "    </tr>\n",
       "    <tr>\n",
       "      <th>2</th>\n",
       "      <td>LB</td>\n",
       "      <td>Student</td>\n",
       "      <td>NaN</td>\n",
       "      <td>1</td>\n",
       "      <td>101</td>\n",
       "      <td>12</td>\n",
       "      <td>Mechanical Engineering BS</td>\n",
       "      <td>7</td>\n",
       "      <td>4</td>\n",
       "      <td>Letter</td>\n",
       "      <td>NaN</td>\n",
       "    </tr>\n",
       "    <tr>\n",
       "      <th>3</th>\n",
       "      <td>AF</td>\n",
       "      <td>Student</td>\n",
       "      <td>NaN</td>\n",
       "      <td>1</td>\n",
       "      <td>101</td>\n",
       "      <td>15</td>\n",
       "      <td>Business Administration BS, Mechanical Enginee...</td>\n",
       "      <td>4</td>\n",
       "      <td>4</td>\n",
       "      <td>Letter</td>\n",
       "      <td>NaN</td>\n",
       "    </tr>\n",
       "    <tr>\n",
       "      <th>4</th>\n",
       "      <td>GM</td>\n",
       "      <td>Student</td>\n",
       "      <td>NaN</td>\n",
       "      <td>1</td>\n",
       "      <td>101</td>\n",
       "      <td>14</td>\n",
       "      <td>Civil Engineering BS</td>\n",
       "      <td>6</td>\n",
       "      <td>4</td>\n",
       "      <td>Letter</td>\n",
       "      <td>NaN</td>\n",
       "    </tr>\n",
       "  </tbody>\n",
       "</table>\n",
       "</div>"
      ],
      "text/plain": [
       "  Initials     Role Pronouns  LEC  DIS  LAB  \\\n",
       "0       CC  Student      NaN    1  101   12   \n",
       "1       HM  Student      NaN    1  101   15   \n",
       "2       LB  Student      NaN    1  101   12   \n",
       "3       AF  Student      NaN    1  101   15   \n",
       "4       GM  Student      NaN    1  101   14   \n",
       "\n",
       "                                              Majors  Terms in Attendance  \\\n",
       "0  Business Administration BS, Industrial Eng & O...                    8   \n",
       "1                       Electrical Eng & Comp Sci BS                    8   \n",
       "2                          Mechanical Engineering BS                    7   \n",
       "3  Business Administration BS, Mechanical Enginee...                    4   \n",
       "4                               Civil Engineering BS                    6   \n",
       "\n",
       "   Units Grading Basis  Waitlist Position  \n",
       "0      4        Letter                NaN  \n",
       "1      4        Letter                NaN  \n",
       "2      4        Letter                NaN  \n",
       "3      4        Letter                NaN  \n",
       "4      4        Letter                NaN  "
      ]
     },
     "execution_count": 11,
     "metadata": {},
     "output_type": "execute_result"
    }
   ],
   "source": [
    "# import pandas\n",
    "import pandas as pd\n",
    "\n",
    "# read csv file using pd.read_csv()\n",
    "df = pd.read_csv('engin7_sp25_rosters.csv')\n",
    "\n",
    "# show first few rows\n",
    "df.head()"
   ]
  },
  {
   "cell_type": "code",
   "execution_count": 15,
   "id": "51885e24-d91e-4849-8935-c03058801497",
   "metadata": {},
   "outputs": [
    {
     "data": {
      "text/plain": [
       "Majors\n",
       "Aerospace Engineering BS                                    21\n",
       "Bioengineering BS                                           37\n",
       "Bioengineering BS, Business Administration BS                2\n",
       "Business Administration BS, Electrical Eng & Comp Sci BS     1\n",
       "Business Administration BS, Industrial Eng & Ops Rsch BS     4\n",
       "Business Administration BS, Mechanical Engineering BS        2\n",
       "Chemical Biology BS                                          5\n",
       "Chemical Engineering BS                                     46\n",
       "Chemical Engineering BS, Letters & Sci Undeclared UG         1\n",
       "Chemistry BS                                                 9\n",
       "Civil Engineering BS                                        86\n",
       "Electrical Eng & Comp Sci BS                                 2\n",
       "Energy Engineering BS                                        6\n",
       "Eng Math & Statistics BS                                     2\n",
       "Engineering Physics BS                                       3\n",
       "Engineering Undeclared UG                                   14\n",
       "Environmental Eng Science BS                                14\n",
       "Industrial Eng & Ops Rsch BS                                23\n",
       "Letters & Sci Undeclared UG                                  9\n",
       "Materials Science & Eng BS                                  19\n",
       "Mechanical Engineering BS                                   75\n",
       "Nuclear Engineering BS                                      21\n",
       "Name: Majors, dtype: int64"
      ]
     },
     "execution_count": 15,
     "metadata": {},
     "output_type": "execute_result"
    }
   ],
   "source": [
    "# grouping and counting entries in each major using df.groupby(['group'])['group'].count()\n",
    "df_grouped = df.groupby(['Majors'])['Majors'].count()\n",
    "df_grouped"
   ]
  },
  {
   "cell_type": "code",
   "execution_count": 13,
   "id": "f83ec9d3-8aa7-4e0f-a827-901a5d88de40",
   "metadata": {},
   "outputs": [
    {
     "data": {
      "text/plain": [
       "Terms in Attendance\n",
       "1      1\n",
       "2    317\n",
       "3      3\n",
       "4     60\n",
       "5      2\n",
       "6     16\n",
       "7      1\n",
       "8      2\n",
       "Name: Terms in Attendance, dtype: int64"
      ]
     },
     "execution_count": 13,
     "metadata": {},
     "output_type": "execute_result"
    }
   ],
   "source": [
    "df_grouped = df.groupby(['Terms in Attendance'])['Terms in Attendance'].count()\n",
    "df_grouped"
   ]
  },
  {
   "cell_type": "code",
   "execution_count": 14,
   "id": "d07525d4-a1d2-4b74-8ffd-f0c92ba63f0a",
   "metadata": {},
   "outputs": [
    {
     "data": {
      "text/plain": [
       "<Axes: ylabel='Terms in Attendance'>"
      ]
     },
     "execution_count": 14,
     "metadata": {},
     "output_type": "execute_result"
    },
    {
     "data": {
      "image/png": "[encoded data removed]",
      "text/plain": [
       "<Figure size 500x700 with 1 Axes>"
      ]
     },
     "metadata": {},
     "output_type": "display_data"
    }
   ],
   "source": [
    "# plotting bar chart\n",
    "df_grouped.plot.barh(x='Major 1', figsize=(5,7))"
   ]
  },
  {
   "cell_type": "markdown",
   "id": "53a49871-66e4-49f8-bfd2-f80f70fefcf1",
   "metadata": {},
   "source": [
    "## 1.3. Reasons to Learn Programming\n",
    "\n",
    "* Programming compels you to uncover your underlying logic and fosters transparency\n",
    "* It prompts you to structure your work systematically, facilitating sharing with others\n",
    "* It makes your work reproducible \n",
    "\n",
    "By employing your programs repeatedly, you can efficiently navigate mundane tasks and optimize your productivity. \n",
    "\n",
    "*All scientists and engineers should learn how to code – it will transform you*.\n",
    "\n",
    "<div class=\"alert alert-block alert-info\"> <b>TRY IT!</b> Repeat the above for <code>'civeng93_roster.csv'</code>.</div>"
   ]
  }
 ],
 "metadata": {
  "kernelspec": {
   "display_name": "Python 3 (ipykernel)",
   "language": "python",
   "name": "python3"
  },
  "language_info": {
   "codemirror_mode": {
    "name": "ipython",
    "version": 3
   },
   "file_extension": ".py",
   "mimetype": "text/x-python",
   "name": "python",
   "nbconvert_exporter": "python",
   "pygments_lexer": "ipython3",
   "version": "3.11.11"
  }
 },
 "nbformat": 4,
 "nbformat_minor": 5
}
